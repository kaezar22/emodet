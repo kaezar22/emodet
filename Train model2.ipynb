{
 "cells": [
  {
   "cell_type": "code",
   "execution_count": 1,
   "id": "04a3f5d4",
   "metadata": {},
   "outputs": [
    {
     "name": "stdout",
     "output_type": "stream",
     "text": [
      "WARNING:tensorflow:From C:\\Users\\ASUS\\anaconda4\\Lib\\site-packages\\keras\\src\\losses.py:2976: The name tf.losses.sparse_softmax_cross_entropy is deprecated. Please use tf.compat.v1.losses.sparse_softmax_cross_entropy instead.\n",
      "\n"
     ]
    }
   ],
   "source": [
    "# import required packages\n",
    "import cv2\n",
    "from keras.models import Sequential\n",
    "from keras.layers import Conv2D, MaxPooling2D, Dense, Dropout, Flatten\n",
    "from keras.optimizers import Adam\n",
    "from keras.preprocessing.image import ImageDataGenerator"
   ]
  },
  {
   "cell_type": "code",
   "execution_count": 3,
   "id": "94ae2a77",
   "metadata": {},
   "outputs": [
    {
     "name": "stdout",
     "output_type": "stream",
     "text": [
      "Found 28709 images belonging to 7 classes.\n",
      "Found 7178 images belonging to 7 classes.\n"
     ]
    }
   ],
   "source": [
    "# Initialize image data generator with rescaling\n",
    "train_data_gen = ImageDataGenerator(rescale=1./255)\n",
    "validation_data_gen = ImageDataGenerator(rescale=1./255)\n",
    "\n",
    "# Preprocess all test images\n",
    "train_generator = train_data_gen.flow_from_directory(\n",
    "        'D:/DATA_analysis/Projects/emodet/set/train',\n",
    "        target_size=(48, 48),\n",
    "        batch_size=64,\n",
    "        color_mode=\"grayscale\",\n",
    "        class_mode='categorical')\n",
    "\n",
    "# Preprocess all train images\n",
    "validation_generator = validation_data_gen.flow_from_directory(\n",
    "        'D:/DATA_analysis/Projects/emodet/set/test',\n",
    "        target_size=(48, 48),\n",
    "        batch_size=64,\n",
    "        color_mode=\"grayscale\",\n",
    "        class_mode='categorical')\n"
   ]
  },
  {
   "cell_type": "code",
   "execution_count": 6,
   "id": "4021af65",
   "metadata": {},
   "outputs": [],
   "source": [
    "\n",
    "# Create model structure\n",
    "emotion_model = Sequential()\n",
    "\n",
    "emotion_model.add(Conv2D(32, kernel_size=(3, 3), activation='relu', input_shape=(48, 48, 1)))\n",
    "emotion_model.add(Conv2D(64, kernel_size=(3, 3), activation='relu'))\n",
    "emotion_model.add(MaxPooling2D(pool_size=(2, 2)))\n",
    "emotion_model.add(Dropout(0.25))\n",
    "\n",
    "emotion_model.add(Conv2D(128, kernel_size=(3, 3), activation='relu'))\n",
    "emotion_model.add(MaxPooling2D(pool_size=(2, 2)))\n",
    "emotion_model.add(Conv2D(128, kernel_size=(3, 3), activation='relu'))\n",
    "emotion_model.add(MaxPooling2D(pool_size=(2, 2)))\n",
    "emotion_model.add(Dropout(0.25))\n",
    "\n",
    "emotion_model.add(Flatten())\n",
    "emotion_model.add(Dense(1024, activation='relu'))\n",
    "emotion_model.add(Dropout(0.5))\n",
    "emotion_model.add(Dense(7, activation='softmax'))\n",
    "\n",
    "cv2.ocl.setUseOpenCL(False)\n",
    "\n",
    "# Use the Adam optimizer from tf.keras.optimizers\n",
    "# Remove the 'decay' parameter, as it is deprecated\n",
    "emotion_model.compile(loss='categorical_crossentropy', optimizer=Adam(learning_rate=0.0001), metrics=['accuracy'])\n"
   ]
  },
  {
   "cell_type": "code",
   "execution_count": 7,
   "id": "0c77229e",
   "metadata": {},
   "outputs": [
    {
     "name": "stdout",
     "output_type": "stream",
     "text": [
      "Epoch 1/25\n"
     ]
    },
    {
     "name": "stderr",
     "output_type": "stream",
     "text": [
      "C:\\Users\\ASUS\\AppData\\Local\\Temp\\ipykernel_13780\\1739503408.py:2: UserWarning: `Model.fit_generator` is deprecated and will be removed in a future version. Please use `Model.fit`, which supports generators.\n",
      "  emotion_model_info = emotion_model.fit_generator(\n"
     ]
    },
    {
     "name": "stdout",
     "output_type": "stream",
     "text": [
      "WARNING:tensorflow:From C:\\Users\\ASUS\\anaconda4\\Lib\\site-packages\\keras\\src\\utils\\tf_utils.py:492: The name tf.ragged.RaggedTensorValue is deprecated. Please use tf.compat.v1.ragged.RaggedTensorValue instead.\n",
      "\n"
     ]
    },
    {
     "name": "stderr",
     "output_type": "stream",
     "text": [
      "WARNING:tensorflow:From C:\\Users\\ASUS\\anaconda4\\Lib\\site-packages\\keras\\src\\utils\\tf_utils.py:492: The name tf.ragged.RaggedTensorValue is deprecated. Please use tf.compat.v1.ragged.RaggedTensorValue instead.\n",
      "\n"
     ]
    },
    {
     "name": "stdout",
     "output_type": "stream",
     "text": [
      "WARNING:tensorflow:From C:\\Users\\ASUS\\anaconda4\\Lib\\site-packages\\keras\\src\\engine\\base_layer_utils.py:384: The name tf.executing_eagerly_outside_functions is deprecated. Please use tf.compat.v1.executing_eagerly_outside_functions instead.\n",
      "\n"
     ]
    },
    {
     "name": "stderr",
     "output_type": "stream",
     "text": [
      "WARNING:tensorflow:From C:\\Users\\ASUS\\anaconda4\\Lib\\site-packages\\keras\\src\\engine\\base_layer_utils.py:384: The name tf.executing_eagerly_outside_functions is deprecated. Please use tf.compat.v1.executing_eagerly_outside_functions instead.\n",
      "\n"
     ]
    },
    {
     "name": "stdout",
     "output_type": "stream",
     "text": [
      "448/448 [==============================] - 79s 174ms/step - loss: 1.8056 - accuracy: 0.2566 - val_loss: 1.7437 - val_accuracy: 0.3168\n",
      "Epoch 2/25\n",
      "448/448 [==============================] - 76s 169ms/step - loss: 1.6421 - accuracy: 0.3581 - val_loss: 1.5568 - val_accuracy: 0.4079\n",
      "Epoch 3/25\n",
      "448/448 [==============================] - 74s 166ms/step - loss: 1.5487 - accuracy: 0.4037 - val_loss: 1.4937 - val_accuracy: 0.4311\n",
      "Epoch 4/25\n",
      "448/448 [==============================] - 75s 167ms/step - loss: 1.4822 - accuracy: 0.4309 - val_loss: 1.4266 - val_accuracy: 0.4555\n",
      "Epoch 5/25\n",
      "448/448 [==============================] - 77s 172ms/step - loss: 1.4293 - accuracy: 0.4521 - val_loss: 1.3875 - val_accuracy: 0.4738\n",
      "Epoch 6/25\n",
      "448/448 [==============================] - 78s 175ms/step - loss: 1.3798 - accuracy: 0.4722 - val_loss: 1.3444 - val_accuracy: 0.4895\n",
      "Epoch 7/25\n",
      "448/448 [==============================] - 84s 188ms/step - loss: 1.3386 - accuracy: 0.4907 - val_loss: 1.3116 - val_accuracy: 0.5066\n",
      "Epoch 8/25\n",
      "448/448 [==============================] - 89s 198ms/step - loss: 1.2982 - accuracy: 0.5077 - val_loss: 1.2808 - val_accuracy: 0.5119\n",
      "Epoch 9/25\n",
      "448/448 [==============================] - 83s 185ms/step - loss: 1.2609 - accuracy: 0.5226 - val_loss: 1.2638 - val_accuracy: 0.5181\n",
      "Epoch 10/25\n",
      "448/448 [==============================] - 85s 190ms/step - loss: 1.2274 - accuracy: 0.5360 - val_loss: 1.2352 - val_accuracy: 0.5301\n",
      "Epoch 11/25\n",
      "448/448 [==============================] - 80s 179ms/step - loss: 1.1964 - accuracy: 0.5497 - val_loss: 1.2112 - val_accuracy: 0.5389\n",
      "Epoch 12/25\n",
      "448/448 [==============================] - 83s 185ms/step - loss: 1.1701 - accuracy: 0.5606 - val_loss: 1.2081 - val_accuracy: 0.5374\n",
      "Epoch 13/25\n",
      "448/448 [==============================] - 84s 187ms/step - loss: 1.1385 - accuracy: 0.5706 - val_loss: 1.1747 - val_accuracy: 0.5555\n",
      "Epoch 14/25\n",
      "448/448 [==============================] - 82s 184ms/step - loss: 1.1153 - accuracy: 0.5830 - val_loss: 1.1548 - val_accuracy: 0.5618\n",
      "Epoch 15/25\n",
      "448/448 [==============================] - 80s 180ms/step - loss: 1.0890 - accuracy: 0.5936 - val_loss: 1.1522 - val_accuracy: 0.5603\n",
      "Epoch 16/25\n",
      "448/448 [==============================] - 81s 182ms/step - loss: 1.0687 - accuracy: 0.6036 - val_loss: 1.1397 - val_accuracy: 0.5670\n",
      "Epoch 17/25\n",
      "448/448 [==============================] - 80s 178ms/step - loss: 1.0366 - accuracy: 0.6136 - val_loss: 1.1356 - val_accuracy: 0.5699\n",
      "Epoch 18/25\n",
      "448/448 [==============================] - 77s 171ms/step - loss: 1.0178 - accuracy: 0.6194 - val_loss: 1.1186 - val_accuracy: 0.5783\n",
      "Epoch 19/25\n",
      "448/448 [==============================] - 79s 177ms/step - loss: 0.9935 - accuracy: 0.6322 - val_loss: 1.1091 - val_accuracy: 0.5834\n",
      "Epoch 20/25\n",
      "448/448 [==============================] - 81s 181ms/step - loss: 0.9654 - accuracy: 0.6450 - val_loss: 1.1016 - val_accuracy: 0.5840\n",
      "Epoch 21/25\n",
      "448/448 [==============================] - 79s 176ms/step - loss: 0.9481 - accuracy: 0.6501 - val_loss: 1.0982 - val_accuracy: 0.5890\n",
      "Epoch 22/25\n",
      "448/448 [==============================] - 76s 169ms/step - loss: 0.9225 - accuracy: 0.6600 - val_loss: 1.0978 - val_accuracy: 0.5894\n",
      "Epoch 23/25\n",
      "448/448 [==============================] - 78s 173ms/step - loss: 0.8968 - accuracy: 0.6704 - val_loss: 1.0895 - val_accuracy: 0.5951\n",
      "Epoch 24/25\n",
      "448/448 [==============================] - 79s 176ms/step - loss: 0.8749 - accuracy: 0.6804 - val_loss: 1.0917 - val_accuracy: 0.5942\n",
      "Epoch 25/25\n",
      "448/448 [==============================] - 75s 167ms/step - loss: 0.8531 - accuracy: 0.6859 - val_loss: 1.1042 - val_accuracy: 0.5864\n"
     ]
    }
   ],
   "source": [
    "# Train the neural network/model\n",
    "emotion_model_info = emotion_model.fit_generator(\n",
    "        train_generator,\n",
    "        steps_per_epoch=28709 // 64,\n",
    "        epochs=25,\n",
    "        validation_data=validation_generator,\n",
    "        validation_steps=7178 // 64)\n",
    "\n",
    "# save model structure in jason file\n",
    "model_json = emotion_model.to_json()\n",
    "with open(\"D:/DATA_analysis/Projects/emodet/emotion_model.json\", \"w\") as json_file:\n",
    "    json_file.write(model_json)\n",
    "\n",
    "# save trained model weight in .h5 file\n",
    "emotion_model.save_weights('D:/DATA_analysis/Projects/emodet/emotion_model.h5')"
   ]
  }
 ],
 "metadata": {
  "kernelspec": {
   "display_name": "Python 3 (ipykernel)",
   "language": "python",
   "name": "python3"
  },
  "language_info": {
   "codemirror_mode": {
    "name": "ipython",
    "version": 3
   },
   "file_extension": ".py",
   "mimetype": "text/x-python",
   "name": "python",
   "nbconvert_exporter": "python",
   "pygments_lexer": "ipython3",
   "version": "3.11.5"
  }
 },
 "nbformat": 4,
 "nbformat_minor": 5
}
